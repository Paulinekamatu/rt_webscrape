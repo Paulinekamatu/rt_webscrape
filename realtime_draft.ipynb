{
 "cells": [
  {
   "cell_type": "markdown",
   "id": "e8eb3aaa-c181-4d1f-9838-980825580a00",
   "metadata": {},
   "source": [
    "    This code will:\n",
    "\n",
    "    -Fetch the weather.gov page for the specified location\n",
    "    -Extract current weather conditions\n",
    "    -Extract the forecast data\n",
    "    -Save both to separate CSV files with timestamps in the filenames"
   ]
  },
  {
   "cell_type": "code",
   "execution_count": 17,
   "id": "f0eb221f-e9ac-4721-af38-bd380afff0e0",
   "metadata": {},
   "outputs": [],
   "source": [
    "import requests\n",
    "from bs4 import BeautifulSoup\n",
    "import pandas as pd\n",
    "import json\n",
    "import time\n",
    "import os\n",
    "from datetime import datetime\n",
    "import logging\n",
    "import csv\n",
    "from pathlib import Path"
   ]
  },
  {
   "cell_type": "code",
   "execution_count": 6,
   "id": "8522bd9a-2b0b-47b8-956f-fcaed0cecc5c",
   "metadata": {},
   "outputs": [
    {
     "name": "stdout",
     "output_type": "stream",
     "text": [
      "Scraping data from https://forecast.weather.gov/MapClick.php?lat=47.449&lon=-122.3093\n",
      "{'temperature': '72F', 'conditions': 'Clear'}\n"
     ]
    }
   ],
   "source": [
    "class WeatherGovScraper:\n",
    "    def __init__(self, url):\n",
    "        self.url = url\n",
    "\n",
    "    def run_once(self):\n",
    "        # Your logic for scraping the data\n",
    "        print(f\"Scraping data from {self.url}\")\n",
    "        # Return some dummy data or actual scraped data\n",
    "        return {\"temperature\": \"72F\", \"conditions\": \"Clear\"}\n",
    "\n",
    "# Usage:\n",
    "url = \"https://forecast.weather.gov/MapClick.php?lat=47.449&lon=-122.3093\"\n",
    "scraper = WeatherGovScraper(url)\n",
    "weather_data = scraper.run_once()\n",
    "print(weather_data)\n",
    "\n"
   ]
  },
  {
   "cell_type": "code",
   "execution_count": 9,
   "id": "e339a653-22b3-487d-bdf0-d46323f6d7db",
   "metadata": {},
   "outputs": [
    {
     "name": "stdout",
     "output_type": "stream",
     "text": [
      "Scraping data from https://forecast.weather.gov/MapClick.php?lat=47.449&lon=-122.3093\n",
      "{'temperature': '72F', 'conditions': 'Clear'}\n",
      "Current temp: Clear\n",
      "Condition: N/A\n"
     ]
    }
   ],
   "source": [
    "# Run a few scrapes with delay\n",
    "import time\n",
    "\n",
    "# Scraping code\n",
    "weather_data = scraper.run_once()\n",
    "\n",
    "# Check the structure of the returned data\n",
    "print(weather_data)  # This will help you understand the data format\n",
    "\n",
    "# Now safely handle 'conditions' if it's a string\n",
    "conditions = weather_data.get('conditions', 'N/A')\n",
    "\n",
    "# If the conditions are a string like \"72°F, Clear\", split it\n",
    "if isinstance(conditions, str):\n",
    "    # Example split: \"72°F, Clear\" -> ['72°F', 'Clear']\n",
    "    temp, condition = conditions.split(',') if ',' in conditions else (conditions, 'N/A')\n",
    "else:\n",
    "    temp, condition = 'N/A', 'N/A'\n",
    "\n",
    "# Clean up the temp string (if necessary) and print results\n",
    "print(f\"Current temp: {temp.strip() if temp != 'N/A' else temp}\")\n",
    "print(f\"Condition: {condition.strip() if condition != 'N/A' else condition}\")\n",
    "\n"
   ]
  },
  {
   "cell_type": "code",
   "execution_count": 12,
   "id": "ccb66a5a-c21b-4400-99e5-77b4330d6ecc",
   "metadata": {},
   "outputs": [
    {
     "name": "stdout",
     "output_type": "stream",
     "text": [
      "Conditions: 49°F\n",
      "Condition: Mostly Cloudythen ChanceRain\n"
     ]
    }
   ],
   "source": [
    "import requests\n",
    "from bs4 import BeautifulSoup\n",
    "\n",
    "class WeatherGovScraper:\n",
    "    def __init__(self, url):\n",
    "        self.url = url\n",
    "    \n",
    "    def run_once(self):\n",
    "        # Send an HTTP request to the weather page\n",
    "        response = requests.get(self.url)\n",
    "        \n",
    "        # Check if the request was successful\n",
    "        if response.status_code != 200:\n",
    "            print(f\"Failed to retrieve the data. Status code: {response.status_code}\")\n",
    "            return None\n",
    "\n",
    "        # Parse the page with BeautifulSoup\n",
    "        soup = BeautifulSoup(response.content, 'html.parser')\n",
    "\n",
    "        # Try to extract the current weather conditions\n",
    "        weather_data = {}\n",
    "\n",
    "        # Extract current temperature and condition (customize the selectors as needed)\n",
    "        try:\n",
    "            temp_element = soup.find('p', class_='myforecast-current-lrg')\n",
    "            condition_element = soup.find('div', class_='tombstone-container')\n",
    "\n",
    "            if temp_element:\n",
    "                weather_data['conditions'] = temp_element.get_text(strip=True)\n",
    "            if condition_element:\n",
    "                condition_desc = condition_element.find('p', class_='short-desc')\n",
    "                if condition_desc:\n",
    "                    weather_data['condition'] = condition_desc.get_text(strip=True)\n",
    "            else:\n",
    "                weather_data['condition'] = 'N/A'\n",
    "        except Exception as e:\n",
    "            print(f\"Error parsing weather data: {e}\")\n",
    "            weather_data['conditions'] = 'N/A'\n",
    "            weather_data['condition'] = 'N/A'\n",
    "\n",
    "        return weather_data\n",
    "\n",
    "\n",
    "# Usage\n",
    "url = \"https://forecast.weather.gov/MapClick.php?lat=47.449&lon=-122.3093\"\n",
    "scraper = WeatherGovScraper(url)\n",
    "\n",
    "# Running the scraper once and getting the data\n",
    "weather_data = scraper.run_once()\n",
    "\n",
    "# Print the fetched data\n",
    "if weather_data:\n",
    "    print(f\"Conditions: {weather_data.get('conditions', 'N/A')}\")\n",
    "    print(f\"Condition: {weather_data.get('condition', 'N/A')}\")\n"
   ]
  },
  {
   "cell_type": "code",
   "execution_count": 16,
   "id": "53d5c8a8-cf4b-44b0-9b31-525e857b2308",
   "metadata": {},
   "outputs": [
    {
     "name": "stdout",
     "output_type": "stream",
     "text": [
      "Scrape #1\n",
      "Conditions: 49°F\n",
      "Condition: Mostly Cloudythen ChanceRain\n",
      "Waiting for 10 seconds before the next scrape...\n",
      "\n",
      "Scrape #2\n",
      "Conditions: 49°F\n",
      "Condition: Mostly Cloudythen ChanceRain\n",
      "Waiting for 10 seconds before the next scrape...\n",
      "\n",
      "Scrape #3\n",
      "Conditions: 49°F\n",
      "Condition: Mostly Cloudythen ChanceRain\n",
      "Scrape #4\n",
      "Conditions: 49°F\n",
      "Condition: Mostly Cloudythen ChanceRain\n",
      "Scrape #5\n",
      "Conditions: 49°F\n",
      "Condition: Mostly Cloudythen ChanceRain\n"
     ]
    }
   ],
   "source": [
    "import requests\n",
    "from bs4 import BeautifulSoup\n",
    "import time  # For adding delay between scrapes\n",
    "\n",
    "class WeatherGovScraper:\n",
    "    def __init__(self, url):\n",
    "        self.url = url\n",
    "    \n",
    "    def run_once(self):\n",
    "        # Send an HTTP request to the weather page\n",
    "        response = requests.get(self.url)\n",
    "        \n",
    "        # Check if the request was successful\n",
    "        if response.status_code != 200:\n",
    "            print(f\"Failed to retrieve the data. Status code: {response.status_code}\")\n",
    "            return None\n",
    "\n",
    "        # Parse the page with BeautifulSoup\n",
    "        soup = BeautifulSoup(response.content, 'html.parser')\n",
    "\n",
    "        # Try to extract the current weather conditions\n",
    "        weather_data = {}\n",
    "\n",
    "        # Extract current temperature and condition (customize the selectors as needed)\n",
    "        try:\n",
    "            temp_element = soup.find('p', class_='myforecast-current-lrg')\n",
    "            condition_element = soup.find('div', class_='tombstone-container')\n",
    "\n",
    "            if temp_element:\n",
    "                weather_data['conditions'] = temp_element.get_text(strip=True)\n",
    "            if condition_element:\n",
    "                condition_desc = condition_element.find('p', class_='short-desc')\n",
    "                if condition_desc:\n",
    "                    weather_data['condition'] = condition_desc.get_text(strip=True)\n",
    "            else:\n",
    "                weather_data['condition'] = 'N/A'\n",
    "        except Exception as e:\n",
    "            print(f\"Error parsing weather data: {e}\")\n",
    "            weather_data['conditions'] = 'N/A'\n",
    "            weather_data['condition'] = 'N/A'\n",
    "\n",
    "        return weather_data\n",
    "\n",
    "\n",
    "# Usage\n",
    "url = \"https://forecast.weather.gov/MapClick.php?lat=47.449&lon=-122.3093\"\n",
    "scraper = WeatherGovScraper(url)\n",
    "\n",
    "# Run the scraper 5 times\n",
    "for i in range(5):\n",
    "    print(f\"Scrape #{i+1}\")\n",
    "    weather_data = scraper.run_once()\n",
    "    \n",
    "    # Print the fetched data\n",
    "    if weather_data:\n",
    "        print(f\"Conditions: {weather_data.get('conditions', 'N/A')}\")\n",
    "        print(f\"Condition: {weather_data.get('condition', 'N/A')}\")\n",
    "    \n",
    "    if i < 2:  # Don't sleep after the last scrape\n",
    "        print(\"Waiting for 10 seconds before the next scrape...\\n\")\n",
    "        time.sleep(10)  # Delay of 5 seconds between scrapes\n"
   ]
  },
  {
   "cell_type": "code",
   "execution_count": 21,
   "id": "6137d753-65e9-4103-a0fc-cd649d1a9e83",
   "metadata": {},
   "outputs": [],
   "source": [
    "import requests\n",
    "import time\n",
    "import logging\n",
    "from requests.exceptions import RequestException, Timeout\n",
    "\n",
    "# Setup logging\n",
    "logging.basicConfig(level=logging.INFO)\n",
    "logger = logging.getLogger(__name__)\n",
    "\n",
    "def fetch_page(url, retries=3, delay=5):\n",
    "  \n",
    "    headers = {\n",
    "        'User-Agent': 'Mozilla/5.0 (Windows NT 10.0; Win64; x64) AppleWebKit/537.36 (KHTML, like Gecko) Chrome/91.0.4472.124 Safari/537.36'\n",
    "    }\n",
    "    \n",
    "    for attempt in range(retries):\n",
    "        try:\n",
    "            # Attempt to send the request\n",
    "            response = requests.get(url, headers=headers, timeout=30)\n",
    "            \n",
    "            # Check for successful response\n",
    "            response.raise_for_status()\n",
    "            logger.info(f\"Successfully fetched {url}\")\n",
    "            return response.text\n",
    "\n",
    "        except Timeout:\n",
    "            logger.warning(f\"Timeout error fetching {url}. Attempt {attempt + 1} of {retries}.\")\n",
    "        except RequestException as e:\n",
    "            logger.error(f\"Request error fetching {url}: {e}. Attempt {attempt + 1} of {retries}.\")\n",
    "        \n",
    "        # If retries are left, wait before trying again\n",
    "        if attempt < retries - 1:\n",
    "            logger.info(f\"Retrying in {delay} seconds...\")\n",
    "            time.sleep(delay)\n",
    "    \n",
    "    # If all retries fail, log and return None\n",
    "    logger.error(f\"Failed to fetch {url} after {retries} attempts.\")\n",
    "    return None\n"
   ]
  },
  {
   "cell_type": "code",
   "execution_count": 23,
   "id": "28289778-f598-4a40-968b-14fd244008fc",
   "metadata": {},
   "outputs": [
    {
     "name": "stderr",
     "output_type": "stream",
     "text": [
      "INFO:__main__:Successfully fetched https://forecast.weather.gov/MapClick.php?lat=47.449&lon=-122.3093\n"
     ]
    },
    {
     "name": "stdout",
     "output_type": "stream",
     "text": [
      "Page fetched successfully.\n"
     ]
    }
   ],
   "source": [
    "url = \"https://forecast.weather.gov/MapClick.php?lat=47.449&lon=-122.3093\"\n",
    "page_content = fetch_page(url)\n",
    "\n",
    "if page_content:\n",
    "    print(\"Page fetched successfully.\")\n",
    "else:\n",
    "    print(\"Failed to fetch the page after multiple attempts.\")\n"
   ]
  },
  {
   "cell_type": "code",
   "execution_count": 31,
   "id": "724c28f8-2cb3-4e41-bb46-212123772930",
   "metadata": {},
   "outputs": [
    {
     "name": "stderr",
     "output_type": "stream",
     "text": [
      "INFO:__main__:Successfully fetched https://forecast.weather.gov/MapClick.php?lat=47.449&lon=-122.3093\n"
     ]
    },
    {
     "name": "stdout",
     "output_type": "stream",
     "text": [
      "{'temperature': '48°F', 'condition': 'Clear', 'humidity': '61%', 'wind_speed': 'SSW 6 MPH', 'barometer': '30.17 in (1021.67 mb)', 'dewpoint': '35°F (2°C)', 'visibility': '10.00 mi', 'wind_chill': '45°F (7°C)', 'last_update': '07 Mar 05:00 PM PST', 'timestamp': '2025-03-08T04:40:53.130795'}\n"
     ]
    }
   ],
   "source": [
    "import requests\n",
    "from datetime import datetime\n",
    "from bs4 import BeautifulSoup\n",
    "import logging\n",
    "\n",
    "# Set up logging for debugging\n",
    "logging.basicConfig(level=logging.DEBUG)\n",
    "logger = logging.getLogger(__name__)\n",
    "\n",
    "# Define the function to fetch the page\n",
    "def fetch_page(url):\n",
    "    \"\"\"Fetch the weather.gov web page\"\"\"\n",
    "    headers = {\n",
    "        'User-Agent': 'Mozilla/5.0 (Windows NT 10.0; Win64; x64) AppleWebKit/537.36 (KHTML, like Gecko) Chrome/91.0.4472.124 Safari/537.36'\n",
    "    }\n",
    "    try:\n",
    "        response = requests.get(url, headers=headers, timeout=30)\n",
    "        response.raise_for_status()\n",
    "        logger.info(f\"Successfully fetched {url}\")\n",
    "        return response.text\n",
    "    except requests.exceptions.RequestException as e:\n",
    "        logger.error(f\"Error fetching {url}: {e}\")\n",
    "        return None\n",
    "\n",
    "# Define the function to parse the weather data\n",
    "def parse_current_conditions(html_content):\n",
    "    \"\"\"Extract current weather conditions from the HTML content\"\"\"\n",
    "    \n",
    "    if not html_content:\n",
    "        logger.error(\"No HTML content provided.\")\n",
    "        return None\n",
    "    \n",
    "    try:\n",
    "        soup = BeautifulSoup(html_content, 'html.parser')\n",
    "        current_conditions = {}\n",
    "\n",
    "        # Get the current conditions section\n",
    "        current_conditions_div = soup.find('div', id='current_conditions-summary')\n",
    "        if current_conditions_div:\n",
    "            # Get the temperature\n",
    "            temp_element = current_conditions_div.find('p', class_='myforecast-current-lrg')\n",
    "            if temp_element:\n",
    "                current_conditions['temperature'] = temp_element.text.strip()\n",
    "            else:\n",
    "                logger.warning(\"Temperature element not found.\")\n",
    "            \n",
    "            # Get the weather condition text\n",
    "            condition_element = current_conditions_div.find('p', class_='myforecast-current')\n",
    "            if condition_element:\n",
    "                current_conditions['condition'] = condition_element.text.strip()\n",
    "            else:\n",
    "                logger.warning(\"Condition element not found.\")\n",
    "            \n",
    "            # Extract additional details\n",
    "            details_table = soup.find('div', id='current_conditions_detail')\n",
    "            if details_table:\n",
    "                rows = details_table.find_all('tr')\n",
    "                for row in rows:\n",
    "                    cells = row.find_all('td')\n",
    "                    if len(cells) == 2:\n",
    "                        label = cells[0].text.strip().rstrip(':').lower().replace(' ', '_')\n",
    "                        value = cells[1].text.strip()\n",
    "                        current_conditions[label] = value\n",
    "                    else:\n",
    "                        logger.debug(\"Skipping row with invalid cell count: %s\", row)\n",
    "\n",
    "        # Add timestamp of data retrieval\n",
    "        current_conditions['timestamp'] = datetime.now().isoformat()\n",
    "        \n",
    "        return current_conditions\n",
    "\n",
    "    except Exception as e:\n",
    "        logger.error(f\"Error parsing the weather data: {e}\")\n",
    "        return None\n",
    "\n",
    "\n",
    "# Fetch the page and parse the data\n",
    "url = \"https://forecast.weather.gov/MapClick.php?lat=47.449&lon=-122.3093\"\n",
    "html_content = fetch_page(url)\n",
    "\n",
    "if html_content:\n",
    "    weather_data = parse_current_conditions(html_content)\n",
    "    if weather_data:\n",
    "        print(weather_data)\n",
    "    else:\n",
    "        print(\"Failed to parse weather data.\")\n",
    "else:\n",
    "    print(\"Failed to fetch the page.\")\n"
   ]
  },
  {
   "cell_type": "code",
   "execution_count": 33,
   "id": "c6b1b018-cd6a-4421-9e4c-05fe54ca76be",
   "metadata": {},
   "outputs": [
    {
     "name": "stderr",
     "output_type": "stream",
     "text": [
      "INFO:__main__:Successfully fetched https://forecast.weather.gov/MapClick.php?lat=47.449&lon=-122.3093\n"
     ]
    },
    {
     "name": "stdout",
     "output_type": "stream",
     "text": [
      "{'period': 'Tonight', 'description': 'Mostly Cloudythen ChanceRain', 'temperature': 'Low: 41 °F', 'condition': 'Tonight: A 30 percent chance of rain, mainly after 3am.  Mostly cloudy, with a low around 41. South southeast wind 7 to 9 mph. ', 'timestamp': '2025-03-08T04:45:55.934593'}\n",
      "{'period': 'Saturday', 'description': 'Rain Likely', 'temperature': 'High: 58 °F', 'condition': 'Saturday: Rain likely, mainly before 11am.  Mostly cloudy, with a high near 58. South southwest wind 8 to 13 mph.  Chance of precipitation is 60%. New precipitation amounts of less than a tenth of an inch possible. ', 'timestamp': '2025-03-08T04:45:55.934593'}\n",
      "{'period': 'Saturday Night', 'description': 'Chance Rain', 'temperature': 'Low: 45 °F', 'condition': 'Saturday Night: A 30 percent chance of rain, mainly after 4am.  Mostly cloudy, with a low around 45. South wind around 9 mph. ', 'timestamp': '2025-03-08T04:45:55.934593'}\n",
      "{'period': 'Sunday', 'description': 'Rain', 'temperature': 'High: 54 °F', 'condition': 'Sunday: Rain, mainly after 10am.  High near 54. South southwest wind 11 to 15 mph, with gusts as high as 24 mph.  Chance of precipitation is 80%. New precipitation amounts between a tenth and quarter of an inch possible. ', 'timestamp': '2025-03-08T04:45:55.934593'}\n",
      "{'period': 'Sunday Night', 'description': 'Rain thenChance Rain', 'temperature': 'Low: 38 °F', 'condition': 'Sunday Night: Rain, mainly before 10pm.  Low around 38. South southwest wind 8 to 10 mph.  Chance of precipitation is 90%. New precipitation amounts between a tenth and quarter of an inch possible. ', 'timestamp': '2025-03-08T04:45:55.934593'}\n",
      "{'period': 'Monday', 'description': 'Chance Rain', 'temperature': 'High: 49 °F', 'condition': 'Monday: A 50 percent chance of rain.  Mostly cloudy, with a high near 49.', 'timestamp': '2025-03-08T04:45:55.934593'}\n",
      "{'period': 'Monday Night', 'description': 'Rain Likely', 'temperature': 'Low: 38 °F', 'condition': 'Monday Night: Rain likely, mainly after 10pm.  Mostly cloudy, with a low around 38. Chance of precipitation is 60%.', 'timestamp': '2025-03-08T04:45:55.934593'}\n",
      "{'period': 'Tuesday', 'description': 'Rain', 'temperature': 'High: 49 °F', 'condition': 'Tuesday: Rain.  Mostly cloudy, with a high near 49.', 'timestamp': '2025-03-08T04:45:55.934593'}\n",
      "{'period': 'Tuesday Night', 'description': 'Rain', 'temperature': 'Low: 40 °F', 'condition': 'Tuesday Night: Rain.  Mostly cloudy, with a low around 40.', 'timestamp': '2025-03-08T04:45:55.934593'}\n"
     ]
    }
   ],
   "source": [
    "# Fetch the page content using the previous fetch_page function\n",
    "url = \"https://forecast.weather.gov/MapClick.php?lat=47.449&lon=-122.3093\"\n",
    "html_content = fetch_page(url)\n",
    "\n",
    "if html_content:\n",
    "    # Parse the forecast data\n",
    "    forecast_data = parse_forecast(html_content)\n",
    "    if forecast_data:\n",
    "        for item in forecast_data:\n",
    "            print(item)\n",
    "    else:\n",
    "        print(\"No forecast data found.\")\n",
    "else:\n",
    "    print(\"Failed to fetch the page.\")\n"
   ]
  },
  {
   "cell_type": "code",
   "execution_count": 37,
   "id": "46b27c3b-405c-45c4-be2d-0a58003fd03a",
   "metadata": {},
   "outputs": [],
   "source": [
    "import csv\n",
    "import logging\n",
    "\n",
    "# Set up logging for debugging\n",
    "logging.basicConfig(level=logging.DEBUG)\n",
    "logger = logging.getLogger(__name__)\n",
    "\n",
    "def save_to_csv(data, filename):\n",
    "    \"\"\"Save data to a CSV file\"\"\"\n",
    "    \n",
    "    if not data:\n",
    "        logger.warning(\"No data to save.\")\n",
    "        return\n",
    "    \n",
    "    # If data is a dictionary (current conditions), convert to a list for CSV writing\n",
    "    if isinstance(data, dict):\n",
    "        data = [data]\n",
    "    \n",
    "    try:\n",
    "        # Ensure that the data is a list of dictionaries\n",
    "        if not isinstance(data, list) or not all(isinstance(item, dict) for item in data):\n",
    "            logger.error(\"Data should be a list of dictionaries.\")\n",
    "            return\n",
    "        \n",
    "        # Get field names from the first item in the data\n",
    "        fieldnames = data[0].keys()\n",
    "        \n",
    "        # Write to CSV file\n",
    "        with open(filename, 'w', newline='', encoding='utf-8') as csvfile:\n",
    "            writer = csv.DictWriter(csvfile, fieldnames=fieldnames)\n",
    "            writer.writeheader()\n",
    "            writer.writerows(data)\n",
    "        \n",
    "        logger.info(f\"Data successfully saved to {filename}\")\n",
    "    \n",
    "    except Exception as e:\n",
    "        logger.error(f\"Error saving data to {filename}: {e}\")\n"
   ]
  },
  {
   "cell_type": "code",
   "execution_count": 35,
   "id": "17917a80-57f5-4e48-9a0d-525bffe2db35",
   "metadata": {},
   "outputs": [
    {
     "name": "stderr",
     "output_type": "stream",
     "text": [
      "INFO:__main__:Data successfully saved to forecast_data.csv\n"
     ]
    }
   ],
   "source": [
    "data = [\n",
    "    {'period': 'Today', 'description': 'Sunny', 'temperature': 'High: 72°F', 'condition': 'Sunny', 'timestamp': '2025-03-08T12:34:56.789123'},\n",
    "    {'period': 'Tonight', 'description': 'Clear', 'temperature': 'Low: 65°F', 'condition': 'Clear', 'timestamp': '2025-03-08T12:34:56.789123'}\n",
    "]\n",
    "\n",
    "filename = 'forecast_data.csv'\n",
    "save_to_csv(data, filename)\n"
   ]
  },
  {
   "cell_type": "code",
   "execution_count": 36,
   "id": "be8c7d06-9366-4ec9-83e8-81073cdc7976",
   "metadata": {},
   "outputs": [
    {
     "name": "stderr",
     "output_type": "stream",
     "text": [
      "INFO:__main__:Successfully fetched https://forecast.weather.gov/MapClick.php?lat=47.449&lon=-122.3093\n",
      "INFO:__main__:Data successfully saved to current_weather_20250308_045044.csv\n",
      "INFO:__main__:Data successfully saved to forecast_20250308_045044.csv\n"
     ]
    }
   ],
   "source": [
    "import logging\n",
    "from datetime import datetime\n",
    "\n",
    "# Set up logging for debugging\n",
    "logging.basicConfig(level=logging.DEBUG)\n",
    "logger = logging.getLogger(__name__)\n",
    "\n",
    "def main():\n",
    "    \"\"\"Main entry point\"\"\"\n",
    "    # Weather.gov URL\n",
    "    url = \"https://forecast.weather.gov/MapClick.php?lat=47.449&lon=-122.3093\"\n",
    "    \n",
    "    try:\n",
    "        # Fetch the page\n",
    "        html_content = fetch_page(url)\n",
    "        \n",
    "        if html_content:\n",
    "            # Get current conditions\n",
    "            current_conditions = parse_current_conditions(html_content)\n",
    "            if current_conditions:\n",
    "                # Save current conditions to CSV\n",
    "                current_filename = f\"current_weather_{datetime.now().strftime('%Y%m%d_%H%M%S')}.csv\"\n",
    "                save_to_csv(current_conditions, current_filename)\n",
    "            else:\n",
    "                logger.warning(\"No current conditions found.\")\n",
    "        \n",
    "            # Get forecast data\n",
    "            forecast_data = parse_forecast(html_content)\n",
    "            if forecast_data:\n",
    "                # Save forecast to CSV\n",
    "                forecast_filename = f\"forecast_{datetime.now().strftime('%Y%m%d_%H%M%S')}.csv\"\n",
    "                save_to_csv(forecast_data, forecast_filename)\n",
    "            else:\n",
    "                logger.warning(\"No forecast data found.\")\n",
    "        else:\n",
    "            logger.error(\"Failed to fetch page content.\")\n",
    "    \n",
    "    except Exception as e:\n",
    "        logger.error(f\"An error occurred in the main process: {e}\")\n",
    "        \n",
    "if __name__ == \"__main__\":\n",
    "    main()\n",
    "\n"
   ]
  },
  {
   "cell_type": "code",
   "execution_count": 38,
   "id": "8d8a0055-b776-41ae-bd5d-d97ae123c413",
   "metadata": {},
   "outputs": [
    {
     "name": "stdout",
     "output_type": "stream",
     "text": [
      "Current working directory: C:\\Users\\USER\n"
     ]
    }
   ],
   "source": [
    "import os\n",
    "print(\"Current working directory:\", os.getcwd())\n"
   ]
  },
  {
   "cell_type": "code",
   "execution_count": null,
   "id": "3c833cc1-a384-439e-a7a2-55e5ea06d24e",
   "metadata": {},
   "outputs": [],
   "source": []
  }
 ],
 "metadata": {
  "kernelspec": {
   "display_name": "Python 3 (ipykernel)",
   "language": "python",
   "name": "python3"
  },
  "language_info": {
   "codemirror_mode": {
    "name": "ipython",
    "version": 3
   },
   "file_extension": ".py",
   "mimetype": "text/x-python",
   "name": "python",
   "nbconvert_exporter": "python",
   "pygments_lexer": "ipython3",
   "version": "3.9.0"
  }
 },
 "nbformat": 4,
 "nbformat_minor": 5
}
